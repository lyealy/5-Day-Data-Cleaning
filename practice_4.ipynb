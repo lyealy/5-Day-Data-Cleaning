{
 "cells": [
  {
   "cell_type": "markdown",
   "metadata": {},
   "source": [
    "*** This practice is based on the tutorial (5-Day Data Challege Day four: Data Cleaning Challenge: Character Encodings) given by Rachael Tatman on Kaggle ***"
   ]
  },
  {
   "cell_type": "code",
   "execution_count": null,
   "metadata": {},
   "outputs": [],
   "source": [
    "%autosave 9999"
   ]
  },
  {
   "cell_type": "code",
   "execution_count": null,
   "metadata": {
    "collapsed": true
   },
   "outputs": [],
   "source": [
    "# modules we'll use\n",
    "import pandas as pd\n",
    "import numpy as np\n",
    "\n",
    "# helpful character encoding module\n",
    "import chardet\n",
    "\n",
    "# set seed for reproducibility\n",
    "np.random.seed(0)"
   ]
  },
  {
   "cell_type": "markdown",
   "metadata": {},
   "source": [
    "*** The default encoding of python 3 is UTF-8 ***\n",
    "1. String can be encoded by using UTF-8 and then decoded by the same format\n",
    "2. By using a different encoder such as ascii, we may lost some information"
   ]
  },
  {
   "cell_type": "code",
   "execution_count": null,
   "metadata": {},
   "outputs": [],
   "source": [
    "start = '@£$%^,你好€#'\n",
    "type(start)\n",
    "start_encoded = start.encode('UTF-8',errors='replace')\n",
    "print(start_encoded)\n",
    "start_decoded = start_encoded.decode('UTF-8')\n",
    "print(start_decoded)\n",
    "\n",
    "start_encoded = start.encode('ascii',errors='replace')\n",
    "print(start_encoded)\n",
    "start_decoded = start_encoded.decode('ascii')\n",
    "print(start_decoded)\n"
   ]
  },
  {
   "cell_type": "markdown",
   "metadata": {},
   "source": [
    "*** Previously, we use pd.read_csv() function to load data, the default encoding is UTF-8, if the csv file is not in that format, an error will raise ***"
   ]
  },
  {
   "cell_type": "code",
   "execution_count": null,
   "metadata": {},
   "outputs": [],
   "source": [
    "# try to read in a file not in UTF-8, an error will raise\n",
    "# kickstarter_2016 = pd.read_csv(\"../input/kickstarter-projects/ks-projects-201612.csv\")\n",
    "\n",
    "# if this happen, we need to check the format of the file \n",
    "# look at the first ten thousand bytes to guess the character encoding\n",
    "with open(\"../data/ks-projects-201801.csv\", 'rb') as rawdata:\n",
    "    result = chardet.detect(rawdata.read(10000))\n",
    "\n",
    "# check what the character encoding might be\n",
    "print(result)"
   ]
  },
  {
   "cell_type": "code",
   "execution_count": null,
   "metadata": {},
   "outputs": [],
   "source": [
    "kickstarter_2016 = pd.read_csv(\"../data/ks-projects-201612.csv\",encoding='Windows-1252')\n",
    "kickstarter_2016.head()"
   ]
  },
  {
   "cell_type": "markdown",
   "metadata": {},
   "source": [
    "*** By using chardet, we will have a confidence value, e.g. 1.0 which mean 100%, but this value may not be accurate at all, if this happen, try read more characters, change 10000 to 100000 ***"
   ]
  },
  {
   "cell_type": "code",
   "execution_count": null,
   "metadata": {},
   "outputs": [],
   "source": [
    "with open(\"../data/PoliceKillingsUS.csv\", 'rb') as rawdata:\n",
    "    result = chardet.detect(rawdata.read(100000))\n",
    "\n",
    "# check what the character encoding might be\n",
    "print(result)\n",
    "\n",
    "police_killings = pd.read_csv(\"../data/PoliceKillingsUS.csv\", encoding='Windows-1252')\n",
    "police_killings.head()"
   ]
  },
  {
   "cell_type": "markdown",
   "metadata": {},
   "source": [
    "*** pandas will automatically save the file in the UTF-8 format ***"
   ]
  },
  {
   "cell_type": "code",
   "execution_count": null,
   "metadata": {
    "collapsed": true
   },
   "outputs": [],
   "source": [
    "police_killings.to_csv('../data/saved.csv')"
   ]
  },
  {
   "cell_type": "code",
   "execution_count": null,
   "metadata": {
    "collapsed": true
   },
   "outputs": [],
   "source": []
  }
 ],
 "metadata": {
  "kernelspec": {
   "display_name": "Python 3",
   "language": "python",
   "name": "python3"
  },
  "language_info": {
   "codemirror_mode": {
    "name": "ipython",
    "version": 3
   },
   "file_extension": ".py",
   "mimetype": "text/x-python",
   "name": "python",
   "nbconvert_exporter": "python",
   "pygments_lexer": "ipython3",
   "version": "3.6.3"
  }
 },
 "nbformat": 4,
 "nbformat_minor": 2
}
